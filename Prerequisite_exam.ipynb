{
  "nbformat": 4,
  "nbformat_minor": 0,
  "metadata": {
    "colab": {
      "provenance": []
    },
    "kernelspec": {
      "name": "python3",
      "display_name": "Python 3"
    },
    "language_info": {
      "name": "python"
    }
  },
  "cells": [
    {
      "cell_type": "markdown",
      "source": [
        "Q1. For a matrix multiplication between a (n, k) and (k, m) matrix. The number of multiplications are (k * n * m) while the number of additions are ((k-1) * n * m). This could be understood in the following manner:\n",
        "\n",
        "\\\\\n",
        "Let us assume the below (n,k) matrix called M1:\n",
        "\n",
        "\\begin{matrix}\n",
        "a_1 & a_2 & a_3 & . & . & a_k \\\\\n",
        "b_1 & b_2 & b_3 & . & . & b_k \\\\\n",
        "c_1 & c_2 & c_3 & . & . & c_k \\\\\n",
        ".   & .   & . & . & . & . \\\\\n",
        "n_1   & n_2   & n_3 & . & . & n_k \\\\\n",
        "\\end{matrix}\n",
        "\n",
        "\n",
        "\n",
        "And the below (k,m) matrix called M2:\n",
        "\\begin{matrix}\n",
        "A_1 & A_2 & A_3 & . & . & A_M \\\\\n",
        "B_1 & B_2 & B_3 & . & . & B_M \\\\\n",
        "C_1 & C_2 & C_3 & . & . & C_M \\\\\n",
        ".   & .   & . & . & . & . \\\\\n",
        "K_1   & K_2   & K_3 & . & . & K_M \\\\\n",
        "\\end{matrix}\n",
        "\n",
        "\\\\\n",
        "For the matrix multiplication, the folllowing operations will be performed\n",
        "\n",
        "\\\\\n",
        "\n",
        "\\begin{matrix}\n",
        "a_1*A_1 + a_2*B_1 + a_3*C_1 ..... + a_k*K_1 & a_1*A_2 + a_2*B_2 + a_3*C_2 .....+ a_k*K_2 & . &. &.&a_1*A_m + a_2*B_m + a_3*C_m .....+ a_k*K_m\\\\\n",
        ". & . & . & . & . & . \\\\\n",
        ". & . & . & . & . & . \\\\\n",
        ".   & .   & . & . & . & . \\\\\n",
        "n_1*A_1 + n_2*B_1 + n_3*C_1 ..... + n_k*K_1   & .   & . & . & . & n_1*A_m + n_2*B_m + n_3*C_m ..... + n_k*K_m \\\\\n",
        "\\end{matrix}\n",
        "\n",
        "\\\\\n",
        "\n",
        "For the above matrix multiplication one can clearly see that for each element of the resultant matrix of size(n,m) having n * m elements and to compute each element k elements will be multiplied with each other and these products will then be added. Thus, for each element there would be k multiplications and (k-1) additions. Since, there are a total of n*m elements in the resultant matrix. Hence, the total additions would be, (k-1) * n * m while the total multiplications would be k * n *m.\n",
        "\n"
      ],
      "metadata": {
        "id": "DO8aCNfDcOhw"
      }
    },
    {
      "cell_type": "markdown",
      "source": [
        "**Q2. a) Matrix multiplication using nested loops and list of lists**"
      ],
      "metadata": {
        "id": "n28yA_MPjC0w"
      }
    },
    {
      "cell_type": "code",
      "execution_count": 44,
      "metadata": {
        "id": "5hoi42PIu2PW",
        "colab": {
          "base_uri": "https://localhost:8080/"
        },
        "outputId": "334b971c-58ec-41ca-f3cf-20d6c0ec38db"
      },
      "outputs": [
        {
          "output_type": "stream",
          "name": "stdout",
          "text": [
            "Matrix multiplication of array A and B\n",
            "\n",
            "array A is:  [[1, 2, 3], [4, 5, 6], [7, 8, 9]]\n",
            "\n",
            "array B is:  [[11, 12, 13], [5, 8, 2], [9, 10, 7]]\n",
            "\n",
            "The resultant matrix is:  [[ 48.  58.  38.]\n",
            " [123. 148. 104.]\n",
            " [198. 238. 170.]]\n"
          ]
        }
      ],
      "source": [
        "import numpy as np\n",
        "\n",
        "print(\"Matrix multiplication of array A and B\")\n",
        "\n",
        "A = [[1,2,3],[4,5,6],[7,8,9]]\n",
        "B = [[11,12,13],[5,8,2],[9,10,7]]\n",
        "print()\n",
        "print(\"array A is: \",A)\n",
        "print()\n",
        "print(\"array B is: \",B)\n",
        "C = np.zeros((3,3))\n",
        "\n",
        "for i in range(3):\n",
        "   for j in range(3):\n",
        "       for k in range(3):\n",
        "           C[i][j] += A[i][k] * B[k][j]\n",
        "print()\n",
        "print(\"The resultant matrix is: \",C)\n",
        "\n"
      ]
    },
    {
      "cell_type": "markdown",
      "source": [
        "**Q2. b) Matrix multiplication using numpy**"
      ],
      "metadata": {
        "id": "FD3meNGpjMuO"
      }
    },
    {
      "cell_type": "code",
      "source": [
        "C = np.dot(A,B)\n",
        "print(\"The resultant matrix is: \",C)"
      ],
      "metadata": {
        "colab": {
          "base_uri": "https://localhost:8080/"
        },
        "id": "UnvCQY0zjB4r",
        "outputId": "5ce40e19-3687-4b9b-a9f9-553ee7066376"
      },
      "execution_count": 45,
      "outputs": [
        {
          "output_type": "stream",
          "name": "stdout",
          "text": [
            "The resultant matrix is:  [[ 48  58  38]\n",
            " [123 148 104]\n",
            " [198 238 170]]\n"
          ]
        }
      ]
    },
    {
      "cell_type": "markdown",
      "source": [
        "**Q2. c) Finding the time taken for both the solutions**\n"
      ],
      "metadata": {
        "id": "48pcsieamTm6"
      }
    },
    {
      "cell_type": "code",
      "source": [
        "%%timeit\n",
        "import numpy as np\n",
        "\n",
        "A = [[1,2,3],[4,5,6],[7,8,9]]\n",
        "B = [[11,12,13],[5,8,2],[9,10,7]]\n",
        "C = np.zeros((3,3))\n",
        "\n",
        "for i in range(3):\n",
        "   # iterate through columns of Y\n",
        "   for j in range(3):\n",
        "       # iterate through rows of Y\n",
        "       for k in range(3):\n",
        "           C[i][j] += A[i][k] * B[k][j]\n",
        "\n",
        "\n"
      ],
      "metadata": {
        "colab": {
          "base_uri": "https://localhost:8080/"
        },
        "id": "oDrr1giEmg95",
        "outputId": "43c1e291-48ce-4113-e617-ed6f09620a48"
      },
      "execution_count": 46,
      "outputs": [
        {
          "output_type": "stream",
          "name": "stdout",
          "text": [
            "25.2 µs ± 693 ns per loop (mean ± std. dev. of 7 runs, 10000 loops each)\n"
          ]
        }
      ]
    },
    {
      "cell_type": "code",
      "source": [
        "%%timeit\n",
        "import numpy as np\n",
        "A = [[1,2,3],[4,5,6],[7,8,9]]\n",
        "B = [[11,12,13],[5,8,2],[9,10,7]]\n",
        "C = np.dot(A,B)\n"
      ],
      "metadata": {
        "colab": {
          "base_uri": "https://localhost:8080/"
        },
        "id": "PFigoya3mpFc",
        "outputId": "26a3018e-0d8b-40d3-e081-98b3a55378cd"
      },
      "execution_count": 47,
      "outputs": [
        {
          "output_type": "stream",
          "name": "stdout",
          "text": [
            "11.3 µs ± 362 ns per loop (mean ± std. dev. of 7 runs, 100000 loops each)\n"
          ]
        }
      ]
    },
    {
      "cell_type": "code",
      "source": [
        "%%timeit\n",
        "import numpy as np\n",
        "\n",
        "A = np.random.rand(100,100)\n",
        "B = np.random.rand(100,100)\n",
        "C = np.zeros((100,100))\n",
        "\n",
        "for i in range(100):\n",
        "   # iterate through columns of Y\n",
        "   for j in range(100):\n",
        "       # iterate through rows of Y\n",
        "       for k in range(100):\n",
        "           C[i][j] += A[i][k] * B[k][j]\n",
        "\n",
        "\n"
      ],
      "metadata": {
        "colab": {
          "base_uri": "https://localhost:8080/"
        },
        "id": "Yqd7k9qPzOrs",
        "outputId": "b6c2ea5b-d0f3-4040-c0a9-e98a8288eb39"
      },
      "execution_count": 48,
      "outputs": [
        {
          "output_type": "stream",
          "name": "stdout",
          "text": [
            "972 ms ± 28.3 ms per loop (mean ± std. dev. of 7 runs, 1 loop each)\n"
          ]
        }
      ]
    },
    {
      "cell_type": "code",
      "source": [
        "%%timeit\n",
        "import numpy as np\n",
        "A = np.random.rand(100,100)\n",
        "B = np.random.rand(100,100)\n",
        "C = np.dot(A,B)\n"
      ],
      "metadata": {
        "colab": {
          "base_uri": "https://localhost:8080/"
        },
        "id": "WCoQeZlbzjr8",
        "outputId": "5e75d3aa-48aa-4cc0-9f91-7e334bfb6f89"
      },
      "execution_count": 49,
      "outputs": [
        {
          "output_type": "stream",
          "name": "stdout",
          "text": [
            "680 µs ± 260 µs per loop (mean ± std. dev. of 7 runs, 1000 loops each)\n"
          ]
        }
      ]
    },
    {
      "cell_type": "markdown",
      "source": [
        "The above computations clearly show that using numpy is a faster solution rather than using lists. This is primarily because lists are stored in non-contiguous memory location and may or may not contain different data type. Due to this it is time consuming for lists to fetch/modify elements as compared to numpy arrays which are stored in contiguous memory locations. This allows one to leverage the locality of reference. Additionally, numpy operations are implemented in C, C++ and Fortran. These languages are traditionally known to have a faster computation time."
      ],
      "metadata": {
        "id": "iy8cHJ78nJ9f"
      }
    },
    {
      "cell_type": "markdown",
      "source": [
        "**Q3. a) Computing median of the array.** The time complexity of the given approach is O($n^{2}$). The time compexity for finding median can be improved by using a sorting technique like quick sort can reduce the complexity to O(nlog(n).\n"
      ],
      "metadata": {
        "id": "WTLFxcnWf_vz"
      }
    },
    {
      "cell_type": "code",
      "source": [
        "%%timeit\n",
        "def kth_ele(A,k):\n",
        "  B = A.copy()\n",
        "  while(k+1!=0):\n",
        "    max = B[0]  \n",
        "    for x in B: \n",
        "      if x > max:\n",
        "        max = x\n",
        "    B.remove(max)\n",
        "    k = k-1\n",
        "\n",
        "  return max\n",
        "\n",
        "A= list(np.random.rand(100))\n",
        "n = len(A)\n",
        " \n",
        "if n % 2 == 0:\n",
        "    median1 = n//2\n",
        "    median2 = n//2 - 1\n",
        "    median = (kth_ele(A,median1) + kth_ele(A,median2))/2\n",
        "else:\n",
        "    median = kth_ele(A,n//2)\n",
        "#print(\"Median is: \" + str(median))\n",
        "\n"
      ],
      "metadata": {
        "colab": {
          "base_uri": "https://localhost:8080/"
        },
        "id": "08cM3ys5nGKt",
        "outputId": "9123a70f-3387-429a-c0cc-f2b29c93191d"
      },
      "execution_count": 50,
      "outputs": [
        {
          "output_type": "stream",
          "name": "stdout",
          "text": [
            "535 µs ± 15.9 µs per loop (mean ± std. dev. of 7 runs, 1000 loops each)\n"
          ]
        }
      ]
    },
    {
      "cell_type": "code",
      "source": [
        "%%timeit\n",
        "def quick_sort(A):\n",
        "  if len(A) <= 1:\n",
        "    return A\n",
        "  pivot = A[len(A) // 2]\n",
        "  left = [x for x in A if x < pivot]\n",
        "  middle = [x for x in A if x == pivot]\n",
        "  right = [x for x in A if x > pivot]\n",
        "  return quick_sort(left) + middle + quick_sort(right)\n",
        "\n",
        "A= list(np.random.rand(100))\n",
        "n = len(A)\n",
        "A = quick_sort(A) \n",
        "\n",
        "if n % 2 == 0:\n",
        "    median1 = A[n//2]\n",
        "    median2 = A[n//2 - 1]\n",
        "    median = (median1+median2)/2\n",
        "else:\n",
        "    median = A[n//2]\n",
        "#print(\"Median is: \" + str(median))\n",
        "\n"
      ],
      "metadata": {
        "colab": {
          "base_uri": "https://localhost:8080/"
        },
        "id": "GHfiMCsglOgR",
        "outputId": "32df7097-15dd-434f-a41c-873e6697cf35"
      },
      "execution_count": 51,
      "outputs": [
        {
          "output_type": "stream",
          "name": "stdout",
          "text": [
            "270 µs ± 9.45 µs per loop (mean ± std. dev. of 7 runs, 1000 loops each)\n"
          ]
        }
      ]
    },
    {
      "cell_type": "code",
      "source": [
        "%%timeit\n",
        "A= list(np.random.rand(100))\n",
        "np.median(A)"
      ],
      "metadata": {
        "colab": {
          "base_uri": "https://localhost:8080/"
        },
        "id": "4jx5omd_noP2",
        "outputId": "f75468b3-f84a-4320-b64c-39f0b6cce516"
      },
      "execution_count": 52,
      "outputs": [
        {
          "output_type": "stream",
          "name": "stdout",
          "text": [
            "52 µs ± 816 ns per loop (mean ± std. dev. of 7 runs, 10000 loops each)\n"
          ]
        }
      ]
    },
    {
      "cell_type": "markdown",
      "source": [
        "From the above outputs one can see that the np.median() method is the fastest, followed by the quicksort method followed by the brute force technique\n"
      ],
      "metadata": {
        "id": "ur7Shu4UoOYM"
      }
    },
    {
      "cell_type": "markdown",
      "source": [
        "\n",
        "**Q 4-6**\n",
        "Gradient wrt x: $2xy$ + $y^{3}cos(x)$\n",
        "\n",
        "Gradient wrt y: $x^{2}$ + $3y^{2}sin(x)$"
      ],
      "metadata": {
        "id": "PFk0wdOwapsH"
      }
    },
    {
      "cell_type": "code",
      "source": [
        "import jax\n",
        "import jax.numpy as jnp\n",
        "from jax import grad\n",
        "\n",
        "#Defining the function \n",
        "def func(x,y):\n",
        "  return x*x*y + y*y*y*jnp.sin(x)\n",
        "\n",
        "#Gradient with respect to x\n",
        "df_dx_jax = grad(func, argnums=0)\n",
        "\n",
        "#Gradient with respect to y\n",
        "df_dy_jax = grad(func, argnums=1)"
      ],
      "metadata": {
        "id": "PdCTshCFxOr7"
      },
      "execution_count": 53,
      "outputs": []
    },
    {
      "cell_type": "code",
      "source": [
        "import sympy as sym\n",
        "\n",
        "x,y = sym.symbols('x y')\n",
        "f = x*x*y + y*y*y*sym.sin(x)\n",
        "df_dx_sym = f.diff(x)\n",
        "df_dy_sym = f.diff(y)\n",
        "\n",
        "print(\"Gradient wrt x using sympy:\", df_dx_sym)\n",
        "print(\"Gradient wrt y using sympy:\", df_dy_sym)"
      ],
      "metadata": {
        "colab": {
          "base_uri": "https://localhost:8080/"
        },
        "id": "pLVZcRYs9Puz",
        "outputId": "64ef1f1e-05b2-4fd7-d11e-3b3b08feac4c"
      },
      "execution_count": 54,
      "outputs": [
        {
          "output_type": "stream",
          "name": "stdout",
          "text": [
            "Gradient wrt x using sympy: 2*x*y + y**3*cos(x)\n",
            "Gradient wrt y using sympy: x**2 + 3*y**2*sin(x)\n"
          ]
        }
      ]
    },
    {
      "cell_type": "code",
      "source": [
        "def sympy_grad_x(x,y):\n",
        "  return 2*x*y + y**3*np.cos(x)\n",
        "\n",
        "def sympy_grad_y(x,y):\n",
        "  return x**2 + 3*y**2*np.sin(x)\n",
        "\n",
        "\n",
        "print(\"Value using jax:\",float(df_dx_jax(1.0,1.0)))\n",
        "print(\"Values using sympy:\",float(sympy_grad_x(1.0,1.0)))\n",
        "\n",
        "print(\"Value using jax:\",float(df_dy_jax(1.0,1.0)))\n",
        "print(\"Values using sympy:\",float(sympy_grad_y(1.0,1.0)))\n",
        "\n",
        "print(\"Value using jax:\",float(df_dy_jax(1.82,1.96)))\n",
        "print(\"Values using sympy:\",float(sympy_grad_y(1.82,1.96)))\n",
        "\n",
        "print(\"Value using jax:\",float(df_dy_jax(0.0,0.0)))\n",
        "print(\"Values using sympy:\",float(sympy_grad_y(0,0)))"
      ],
      "metadata": {
        "colab": {
          "base_uri": "https://localhost:8080/"
        },
        "id": "5JZhv1Yw0g7f",
        "outputId": "c19ea7b7-068e-4742-a7a8-46fdeda7e9d7"
      },
      "execution_count": 55,
      "outputs": [
        {
          "output_type": "stream",
          "name": "stdout",
          "text": [
            "Value using jax: 2.540302276611328\n",
            "Values using sympy: 2.5403023058681398\n",
            "Value using jax: 3.5244128704071045\n",
            "Values using sympy: 3.5244129544236893\n",
            "Value using jax: 14.481188774108887\n",
            "Values using sympy: 14.481188888521482\n",
            "Value using jax: 0.0\n",
            "Values using sympy: 0.0\n"
          ]
        }
      ]
    },
    {
      "cell_type": "markdown",
      "source": [
        "**Q7.**"
      ],
      "metadata": {
        "id": "WNpK_oRAgeUv"
      }
    },
    {
      "cell_type": "code",
      "source": [
        "dict1 = {2022:{\"Branch 1\":{\"Roll Number\":1 ,\"Name\": \"N\",\"Marks\": {\"Maths\":100,\"English\":70}},\"Branch 2\":{}},2023:{\"Branch 1\":{},\"Branch 2\":{}},2024:{\"Branch 1\":{},\"Branch 2\":{}},2025:{\"Branch 1\":{},\"Branch 2\":{}}}"
      ],
      "metadata": {
        "id": "vn7WZ3e1EQbw"
      },
      "execution_count": 56,
      "outputs": []
    },
    {
      "cell_type": "code",
      "source": [
        "dict1"
      ],
      "metadata": {
        "colab": {
          "base_uri": "https://localhost:8080/"
        },
        "id": "5So2owNxvdlq",
        "outputId": "b0616203-f504-4093-80a0-d9e51644a4b7"
      },
      "execution_count": 57,
      "outputs": [
        {
          "output_type": "execute_result",
          "data": {
            "text/plain": [
              "{2022: {'Branch 1': {'Roll Number': 1,\n",
              "   'Name': 'N',\n",
              "   'Marks': {'Maths': 100, 'English': 70}},\n",
              "  'Branch 2': {}},\n",
              " 2023: {'Branch 1': {}, 'Branch 2': {}},\n",
              " 2024: {'Branch 1': {}, 'Branch 2': {}},\n",
              " 2025: {'Branch 1': {}, 'Branch 2': {}}}"
            ]
          },
          "metadata": {},
          "execution_count": 57
        }
      ]
    },
    {
      "cell_type": "markdown",
      "source": [
        "**Q 8.**"
      ],
      "metadata": {
        "id": "7CGIO3iugprc"
      }
    },
    {
      "cell_type": "code",
      "source": [
        "class student:\n",
        "    def __init__(self, Name, Roll_number, Marks):\n",
        "        self.Name = Name\n",
        "        self.Roll_number = Roll_number\n",
        "        self.Marks = Marks\n",
        "\n",
        "class branch:\n",
        "    def __init__(self, branch,students):\n",
        "        self.branch = branch\n",
        "        self.students = students\n",
        "\n",
        "class year:\n",
        "    def __init__(self, year, branches):\n",
        "        self.year = year\n",
        "        self.branches = branches"
      ],
      "metadata": {
        "id": "ca93bQzEw5Z8"
      },
      "execution_count": 58,
      "outputs": []
    },
    {
      "cell_type": "code",
      "source": [
        "db = [\n",
        "    year (2022,[\n",
        "        branch(1,[\n",
        "            student(\"N\", 1, {\"Maths\": 100, \"English\": 70}),\n",
        "        ]),\n",
        "        branch(2,[\n",
        "        ])\n",
        "    ]),\n",
        "    year(2023,[\n",
        "        branch(1,[]),\n",
        "        branch(2,[])\n",
        "    ]),\n",
        "    year(2024,[\n",
        "        branch(1,[]),\n",
        "        branch(2,[])\n",
        "    ]),\n",
        "    year(2025,[\n",
        "        branch(1,[]),\n",
        "        branch(2,[])\n",
        "    ]),\n",
        "    \n",
        "]\n"
      ],
      "metadata": {
        "id": "N4K_nhHnwIOV"
      },
      "execution_count": 59,
      "outputs": []
    },
    {
      "cell_type": "markdown",
      "source": [
        "**Q 9. Plotting graphs**"
      ],
      "metadata": {
        "id": "l5iB-8_CIufy"
      }
    },
    {
      "cell_type": "code",
      "source": [
        "import matplotlib.pyplot as plt\n",
        "import math\n",
        "x= np.arange(0.5,100.5,0.5)\n",
        "\n",
        "def fun1(x):\n",
        "  return x\n",
        "\n",
        "def fun2(x):\n",
        "  return x*x\n",
        "\n",
        "def fun3(x):\n",
        "  return x*x*x/100\n",
        "\n",
        "def fun4(x):\n",
        "  return np.sin(x)\n",
        "\n",
        "def fun5(x):\n",
        "  return np.sin(x)/x\n",
        "\n",
        "def fun6(x):\n",
        "  return np.log(x)\n",
        "\n",
        "def fun7(x):\n",
        "  return np.exp(x) \n",
        "\n",
        "\n"
      ],
      "metadata": {
        "id": "uvd5uJIXHbqc"
      },
      "execution_count": 60,
      "outputs": []
    },
    {
      "cell_type": "code",
      "source": [
        "f = plt.figure()\n",
        "f.set_figwidth(8)\n",
        "f.set_figheight(8)\n",
        "# plotting the points \n",
        "plt.plot(x,fun1(x))\n",
        "plt.axvline(x=0, c=\"green\")\n",
        "plt.axhline(y=0, c=\"green\")\n",
        "# naming the x axis\n",
        "plt.xlabel('x')\n",
        "# naming the y axis\n",
        "plt.ylabel('x')\n",
        "  \n",
        "# giving a title to my graph\n",
        "plt.title('y=x')\n",
        "\n",
        "# function to show the plot\n",
        "plt.show()"
      ],
      "metadata": {
        "id": "5K-THVCKIk2N",
        "colab": {
          "base_uri": "https://localhost:8080/",
          "height": 513
        },
        "outputId": "2ccbe759-b7a7-453a-bbd1-9a75515ff4e3"
      },
      "execution_count": 61,
      "outputs": [
        {
          "output_type": "display_data",
          "data": {
            "text/plain": [
              "<Figure size 576x576 with 1 Axes>"
            ],
            "image/png": "[encoded data removed]"
          },
          "metadata": {
            "needs_background": "light"
          }
        }
      ]
    },
    {
      "cell_type": "code",
      "source": [
        "f = plt.figure()\n",
        "f.set_figwidth(8)\n",
        "f.set_figheight(8)\n",
        "# plotting the points \n",
        "plt.plot(x,fun2(x))\n",
        "plt.axvline(x=0, c=\"green\")\n",
        "plt.axhline(y=0, c=\"green\")\n",
        "# naming the x axis\n",
        "plt.xlabel('x')\n",
        "# naming the y axis\n",
        "plt.ylabel('x\\u00b2')\n",
        "  \n",
        "# giving a title to my graph\n",
        "plt.title('y = x\\u00b2')\n",
        "\n",
        "# function to show the plot\n",
        "plt.show()"
      ],
      "metadata": {
        "id": "00QS5SnJJx1_",
        "colab": {
          "base_uri": "https://localhost:8080/",
          "height": 513
        },
        "outputId": "b7b49f25-011b-4753-e43e-24e6c0b04840"
      },
      "execution_count": 62,
      "outputs": [
        {
          "output_type": "display_data",
          "data": {
            "text/plain": [
              "<Figure size 576x576 with 1 Axes>"
            ],
            "image/png": "[encoded data removed]"
          },
          "metadata": {
            "needs_background": "light"
          }
        }
      ]
    },
    {
      "cell_type": "code",
      "source": [
        "f = plt.figure()\n",
        "f.set_figwidth(8)\n",
        "f.set_figheight(8)\n",
        "# plotting the points \n",
        "plt.plot(x,fun3(x))\n",
        "plt.axvline(x=0, c=\"green\")\n",
        "plt.axhline(y=0, c=\"green\")\n",
        "# naming the x axis\n",
        "plt.xlabel('x')\n",
        "# naming the y axis\n",
        "plt.ylabel('x\\u00b3/100')\n",
        "  \n",
        "# giving a title to my graph\n",
        "plt.title('y = x\\u00b3/100')\n",
        "\n",
        "# function to show the plot\n",
        "plt.show()"
      ],
      "metadata": {
        "id": "Hb1H5FthK-sn",
        "colab": {
          "base_uri": "https://localhost:8080/",
          "height": 513
        },
        "outputId": "c8454e6e-9eeb-4208-def8-d4800adb89bb"
      },
      "execution_count": 63,
      "outputs": [
        {
          "output_type": "display_data",
          "data": {
            "text/plain": [
              "<Figure size 576x576 with 1 Axes>"
            ],
            "image/png": "[encoded data removed]"
          },
          "metadata": {
            "needs_background": "light"
          }
        }
      ]
    },
    {
      "cell_type": "code",
      "source": [
        "f = plt.figure()\n",
        "f.set_figwidth(8)\n",
        "f.set_figheight(5)\n",
        "# plotting the points \n",
        "plt.plot(x,fun4(x))\n",
        "plt.axvline(x=0, c=\"green\")\n",
        "plt.axhline(y=0, c=\"green\")\n",
        "# naming the x axis\n",
        "plt.xlabel('x')\n",
        "# naming the y axis\n",
        "plt.ylabel('sin(x)')\n",
        "  \n",
        "# giving a title to my graph\n",
        "plt.title('y = sin(x)')\n",
        "\n",
        "# function to show the plot\n",
        "plt.show()"
      ],
      "metadata": {
        "id": "HV_a6Lk0LNAb",
        "colab": {
          "base_uri": "https://localhost:8080/",
          "height": 350
        },
        "outputId": "5d52778b-9495-4eda-9cf5-f9f381ae4b6e"
      },
      "execution_count": 64,
      "outputs": [
        {
          "output_type": "display_data",
          "data": {
            "text/plain": [
              "<Figure size 576x360 with 1 Axes>"
            ],
            "image/png": "[encoded data removed]"
          },
          "metadata": {
            "needs_background": "light"
          }
        }
      ]
    },
    {
      "cell_type": "code",
      "source": [
        "f = plt.figure()\n",
        "f.set_figwidth(8)\n",
        "f.set_figheight(5)\n",
        "# plotting the points \n",
        "plt.plot(x,fun5(x))\n",
        "plt.axvline(x=0, c=\"green\")\n",
        "plt.axhline(y=0, c=\"green\")\n",
        "# naming the x axis\n",
        "plt.xlabel('x')\n",
        "# naming the y axis\n",
        "plt.ylabel('sin(x)/x')\n",
        "  \n",
        "# giving a title to my graph\n",
        "plt.title('y = sin(x)/x')\n",
        "\n",
        "# function to show the plot\n",
        "plt.show()"
      ],
      "metadata": {
        "id": "o4BLME5CLU7M",
        "colab": {
          "base_uri": "https://localhost:8080/",
          "height": 350
        },
        "outputId": "d977e53a-81cc-4284-cf75-0400eb24c0d2"
      },
      "execution_count": 73,
      "outputs": [
        {
          "output_type": "display_data",
          "data": {
            "text/plain": [
              "<Figure size 576x360 with 1 Axes>"
            ],
            "image/png": "[encoded data removed]"
          },
          "metadata": {
            "needs_background": "light"
          }
        }
      ]
    },
    {
      "cell_type": "code",
      "source": [
        "f = plt.figure()\n",
        "f.set_figwidth(8)\n",
        "f.set_figheight(5)\n",
        "# plotting the points \n",
        "plt.plot(x,fun6(x))\n",
        "plt.axvline(x=0, c=\"green\")\n",
        "plt.axhline(y=0, c=\"green\")\n",
        "# naming the x axis\n",
        "plt.xlabel('x')\n",
        "# naming the y axis\n",
        "plt.ylabel('log(x)')\n",
        "  \n",
        "# giving a title to my graph\n",
        "plt.title('y = log(x)')\n",
        "\n",
        "# function to show the plot\n",
        "plt.show()"
      ],
      "metadata": {
        "id": "e-kaQ0meLfRg",
        "colab": {
          "base_uri": "https://localhost:8080/",
          "height": 350
        },
        "outputId": "67623480-08b1-4988-a5ac-3fc381d70b8d"
      },
      "execution_count": 66,
      "outputs": [
        {
          "output_type": "display_data",
          "data": {
            "text/plain": [
              "<Figure size 576x360 with 1 Axes>"
            ],
            "image/png": "[encoded data removed]"
          },
          "metadata": {
            "needs_background": "light"
          }
        }
      ]
    },
    {
      "cell_type": "code",
      "source": [
        "f = plt.figure()\n",
        "f.set_figwidth(8)\n",
        "f.set_figheight(5)\n",
        "# plotting the points \n",
        "plt.plot(x,fun7(x))\n",
        "plt.axvline(x=0, c=\"green\")\n",
        "plt.axhline(y=0, c=\"green\")\n",
        "# naming the x axis\n",
        "plt.xlabel('x')\n",
        "# naming the y axis\n",
        "plt.ylabel('e^x')\n",
        "  \n",
        "# giving a title to my graph\n",
        "plt.title('e^x')\n",
        "\n",
        "# function to show the plot\n",
        "plt.show()"
      ],
      "metadata": {
        "id": "QN2Aq8McMFRM",
        "colab": {
          "base_uri": "https://localhost:8080/",
          "height": 350
        },
        "outputId": "52f149b5-07ce-49fa-83c3-c40713caf936"
      },
      "execution_count": 67,
      "outputs": [
        {
          "output_type": "display_data",
          "data": {
            "text/plain": [
              "<Figure size 576x360 with 1 Axes>"
            ],
            "image/png": "[encoded data removed]"
          },
          "metadata": {
            "needs_background": "light"
          }
        }
      ]
    },
    {
      "cell_type": "markdown",
      "source": [
        "**Q 10. Generating matrix and creating a dataframe**"
      ],
      "metadata": {
        "id": "81OfI-cuo7o0"
      }
    },
    {
      "cell_type": "code",
      "source": [
        "df"
      ],
      "metadata": {
        "colab": {
          "base_uri": "https://localhost:8080/",
          "height": 676
        },
        "id": "WHA-CoUWt443",
        "outputId": "a13effb2-f434-45a8-ecd9-0f85d5e66214"
      },
      "execution_count": 76,
      "outputs": [
        {
          "output_type": "execute_result",
          "data": {
            "text/plain": [
              "           a         b         c         d         e\n",
              "0   1.600705  1.593401  1.720843  1.958468  1.386319\n",
              "1   1.716231  1.636143  1.186127  1.794463  1.478641\n",
              "2   1.518654  1.628420  1.298742  1.696067  1.865630\n",
              "3   1.404212  1.658813  1.965174  1.427572  1.040576\n",
              "4   1.407320  1.894166  1.462153  1.862402  1.049957\n",
              "5   1.813673  1.160708  1.255013  1.610841  1.724032\n",
              "6   1.081873  1.249204  1.551376  1.279035  1.507210\n",
              "7   1.820475  1.633848  1.241810  1.768422  1.665105\n",
              "8   1.269316  1.013426  1.343787  1.538976  1.420519\n",
              "9   1.447727  1.678413  1.662893  1.115404  1.190717\n",
              "10  1.240416  1.170017  1.778856  1.096222  1.837649\n",
              "11  1.340724  1.404895  1.855383  1.698882  1.659465\n",
              "12  1.681929  1.610501  1.664173  1.423225  1.142469\n",
              "13  1.838075  1.855545  1.772774  1.901026  1.301555\n",
              "14  1.104970  1.859697  1.543601  1.988709  1.464014\n",
              "15  1.862186  1.928404  1.367039  1.645991  1.057098\n",
              "16  1.158064  1.434710  1.685578  1.848925  1.098457\n",
              "17  1.863857  1.958937  1.596937  1.210288  1.382787\n",
              "18  1.139047  1.040808  1.103211  1.458461  1.865885\n",
              "19  1.192691  1.401808  1.320733  1.689717  1.351174"
            ],
            "text/html": [
              "\n",
              "  <div id=\"df-02fb1473-2c56-475e-aa90-6a2c354bf168\">\n",
              "    <div class=\"colab-df-container\">\n",
              "      <div>\n",
              "<style scoped>\n",
              "    .dataframe tbody tr th:only-of-type {\n",
              "        vertical-align: middle;\n",
              "    }\n",
              "\n",
              "    .dataframe tbody tr th {\n",
              "        vertical-align: top;\n",
              "    }\n",
              "\n",
              "    .dataframe thead th {\n",
              "        text-align: right;\n",
              "    }\n",
              "</style>\n",
              "<table border=\"1\" class=\"dataframe\">\n",
              "  <thead>\n",
              "    <tr style=\"text-align: right;\">\n",
              "      <th></th>\n",
              "      <th>a</th>\n",
              "      <th>b</th>\n",
              "      <th>c</th>\n",
              "      <th>d</th>\n",
              "      <th>e</th>\n",
              "    </tr>\n",
              "  </thead>\n",
              "  <tbody>\n",
              "    <tr>\n",
              "      <th>0</th>\n",
              "      <td>1.600705</td>\n",
              "      <td>1.593401</td>\n",
              "      <td>1.720843</td>\n",
              "      <td>1.958468</td>\n",
              "      <td>1.386319</td>\n",
              "    </tr>\n",
              "    <tr>\n",
              "      <th>1</th>\n",
              "      <td>1.716231</td>\n",
              "      <td>1.636143</td>\n",
              "      <td>1.186127</td>\n",
              "      <td>1.794463</td>\n",
              "      <td>1.478641</td>\n",
              "    </tr>\n",
              "    <tr>\n",
              "      <th>2</th>\n",
              "      <td>1.518654</td>\n",
              "      <td>1.628420</td>\n",
              "      <td>1.298742</td>\n",
              "      <td>1.696067</td>\n",
              "      <td>1.865630</td>\n",
              "    </tr>\n",
              "    <tr>\n",
              "      <th>3</th>\n",
              "      <td>1.404212</td>\n",
              "      <td>1.658813</td>\n",
              "      <td>1.965174</td>\n",
              "      <td>1.427572</td>\n",
              "      <td>1.040576</td>\n",
              "    </tr>\n",
              "    <tr>\n",
              "      <th>4</th>\n",
              "      <td>1.407320</td>\n",
              "      <td>1.894166</td>\n",
              "      <td>1.462153</td>\n",
              "      <td>1.862402</td>\n",
              "      <td>1.049957</td>\n",
              "    </tr>\n",
              "    <tr>\n",
              "      <th>5</th>\n",
              "      <td>1.813673</td>\n",
              "      <td>1.160708</td>\n",
              "      <td>1.255013</td>\n",
              "      <td>1.610841</td>\n",
              "      <td>1.724032</td>\n",
              "    </tr>\n",
              "    <tr>\n",
              "      <th>6</th>\n",
              "      <td>1.081873</td>\n",
              "      <td>1.249204</td>\n",
              "      <td>1.551376</td>\n",
              "      <td>1.279035</td>\n",
              "      <td>1.507210</td>\n",
              "    </tr>\n",
              "    <tr>\n",
              "      <th>7</th>\n",
              "      <td>1.820475</td>\n",
              "      <td>1.633848</td>\n",
              "      <td>1.241810</td>\n",
              "      <td>1.768422</td>\n",
              "      <td>1.665105</td>\n",
              "    </tr>\n",
              "    <tr>\n",
              "      <th>8</th>\n",
              "      <td>1.269316</td>\n",
              "      <td>1.013426</td>\n",
              "      <td>1.343787</td>\n",
              "      <td>1.538976</td>\n",
              "      <td>1.420519</td>\n",
              "    </tr>\n",
              "    <tr>\n",
              "      <th>9</th>\n",
              "      <td>1.447727</td>\n",
              "      <td>1.678413</td>\n",
              "      <td>1.662893</td>\n",
              "      <td>1.115404</td>\n",
              "      <td>1.190717</td>\n",
              "    </tr>\n",
              "    <tr>\n",
              "      <th>10</th>\n",
              "      <td>1.240416</td>\n",
              "      <td>1.170017</td>\n",
              "      <td>1.778856</td>\n",
              "      <td>1.096222</td>\n",
              "      <td>1.837649</td>\n",
              "    </tr>\n",
              "    <tr>\n",
              "      <th>11</th>\n",
              "      <td>1.340724</td>\n",
              "      <td>1.404895</td>\n",
              "      <td>1.855383</td>\n",
              "      <td>1.698882</td>\n",
              "      <td>1.659465</td>\n",
              "    </tr>\n",
              "    <tr>\n",
              "      <th>12</th>\n",
              "      <td>1.681929</td>\n",
              "      <td>1.610501</td>\n",
              "      <td>1.664173</td>\n",
              "      <td>1.423225</td>\n",
              "      <td>1.142469</td>\n",
              "    </tr>\n",
              "    <tr>\n",
              "      <th>13</th>\n",
              "      <td>1.838075</td>\n",
              "      <td>1.855545</td>\n",
              "      <td>1.772774</td>\n",
              "      <td>1.901026</td>\n",
              "      <td>1.301555</td>\n",
              "    </tr>\n",
              "    <tr>\n",
              "      <th>14</th>\n",
              "      <td>1.104970</td>\n",
              "      <td>1.859697</td>\n",
              "      <td>1.543601</td>\n",
              "      <td>1.988709</td>\n",
              "      <td>1.464014</td>\n",
              "    </tr>\n",
              "    <tr>\n",
              "      <th>15</th>\n",
              "      <td>1.862186</td>\n",
              "      <td>1.928404</td>\n",
              "      <td>1.367039</td>\n",
              "      <td>1.645991</td>\n",
              "      <td>1.057098</td>\n",
              "    </tr>\n",
              "    <tr>\n",
              "      <th>16</th>\n",
              "      <td>1.158064</td>\n",
              "      <td>1.434710</td>\n",
              "      <td>1.685578</td>\n",
              "      <td>1.848925</td>\n",
              "      <td>1.098457</td>\n",
              "    </tr>\n",
              "    <tr>\n",
              "      <th>17</th>\n",
              "      <td>1.863857</td>\n",
              "      <td>1.958937</td>\n",
              "      <td>1.596937</td>\n",
              "      <td>1.210288</td>\n",
              "      <td>1.382787</td>\n",
              "    </tr>\n",
              "    <tr>\n",
              "      <th>18</th>\n",
              "      <td>1.139047</td>\n",
              "      <td>1.040808</td>\n",
              "      <td>1.103211</td>\n",
              "      <td>1.458461</td>\n",
              "      <td>1.865885</td>\n",
              "    </tr>\n",
              "    <tr>\n",
              "      <th>19</th>\n",
              "      <td>1.192691</td>\n",
              "      <td>1.401808</td>\n",
              "      <td>1.320733</td>\n",
              "      <td>1.689717</td>\n",
              "      <td>1.351174</td>\n",
              "    </tr>\n",
              "  </tbody>\n",
              "</table>\n",
              "</div>\n",
              "      <button class=\"colab-df-convert\" onclick=\"convertToInteractive('df-02fb1473-2c56-475e-aa90-6a2c354bf168')\"\n",
              "              title=\"Convert this dataframe to an interactive table.\"\n",
              "              style=\"display:none;\">\n",
              "        \n",
              "  <svg xmlns=\"http://www.w3.org/2000/svg\" height=\"24px\"viewBox=\"0 0 24 24\"\n",
              "       width=\"24px\">\n",
              "    <path d=\"M0 0h24v24H0V0z\" fill=\"none\"/>\n",
              "    <path d=\"M18.56 5.44l.94 2.06.94-2.06 2.06-.94-2.06-.94-.94-2.06-.94 2.06-2.06.94zm-11 1L8.5 8.5l.94-2.06 2.06-.94-2.06-.94L8.5 2.5l-.94 2.06-2.06.94zm10 10l.94 2.06.94-2.06 2.06-.94-2.06-.94-.94-2.06-.94 2.06-2.06.94z\"/><path d=\"M17.41 7.96l-1.37-1.37c-.4-.4-.92-.59-1.43-.59-.52 0-1.04.2-1.43.59L10.3 9.45l-7.72 7.72c-.78.78-.78 2.05 0 2.83L4 21.41c.39.39.9.59 1.41.59.51 0 1.02-.2 1.41-.59l7.78-7.78 2.81-2.81c.8-.78.8-2.07 0-2.86zM5.41 20L4 18.59l7.72-7.72 1.47 1.35L5.41 20z\"/>\n",
              "  </svg>\n",
              "      </button>\n",
              "      \n",
              "  <style>\n",
              "    .colab-df-container {\n",
              "      display:flex;\n",
              "      flex-wrap:wrap;\n",
              "      gap: 12px;\n",
              "    }\n",
              "\n",
              "    .colab-df-convert {\n",
              "      background-color: #E8F0FE;\n",
              "      border: none;\n",
              "      border-radius: 50%;\n",
              "      cursor: pointer;\n",
              "      display: none;\n",
              "      fill: #1967D2;\n",
              "      height: 32px;\n",
              "      padding: 0 0 0 0;\n",
              "      width: 32px;\n",
              "    }\n",
              "\n",
              "    .colab-df-convert:hover {\n",
              "      background-color: #E2EBFA;\n",
              "      box-shadow: 0px 1px 2px rgba(60, 64, 67, 0.3), 0px 1px 3px 1px rgba(60, 64, 67, 0.15);\n",
              "      fill: #174EA6;\n",
              "    }\n",
              "\n",
              "    [theme=dark] .colab-df-convert {\n",
              "      background-color: #3B4455;\n",
              "      fill: #D2E3FC;\n",
              "    }\n",
              "\n",
              "    [theme=dark] .colab-df-convert:hover {\n",
              "      background-color: #434B5C;\n",
              "      box-shadow: 0px 1px 3px 1px rgba(0, 0, 0, 0.15);\n",
              "      filter: drop-shadow(0px 1px 2px rgba(0, 0, 0, 0.3));\n",
              "      fill: #FFFFFF;\n",
              "    }\n",
              "  </style>\n",
              "\n",
              "      <script>\n",
              "        const buttonEl =\n",
              "          document.querySelector('#df-02fb1473-2c56-475e-aa90-6a2c354bf168 button.colab-df-convert');\n",
              "        buttonEl.style.display =\n",
              "          google.colab.kernel.accessAllowed ? 'block' : 'none';\n",
              "\n",
              "        async function convertToInteractive(key) {\n",
              "          const element = document.querySelector('#df-02fb1473-2c56-475e-aa90-6a2c354bf168');\n",
              "          const dataTable =\n",
              "            await google.colab.kernel.invokeFunction('convertToInteractive',\n",
              "                                                     [key], {});\n",
              "          if (!dataTable) return;\n",
              "\n",
              "          const docLinkHtml = 'Like what you see? Visit the ' +\n",
              "            '<a target=\"_blank\" href=https://colab.research.google.com/notebooks/data_table.ipynb>data table notebook</a>'\n",
              "            + ' to learn more about interactive tables.';\n",
              "          element.innerHTML = '';\n",
              "          dataTable['output_type'] = 'display_data';\n",
              "          await google.colab.output.renderOutput(dataTable, element);\n",
              "          const docLink = document.createElement('div');\n",
              "          docLink.innerHTML = docLinkHtml;\n",
              "          element.appendChild(docLink);\n",
              "        }\n",
              "      </script>\n",
              "    </div>\n",
              "  </div>\n",
              "  "
            ]
          },
          "metadata": {},
          "execution_count": 76
        }
      ]
    },
    {
      "cell_type": "code",
      "source": [
        "import pandas as pd\n",
        "array = np.random.uniform(low = 1, high=2, size = (20,5))\n",
        "df = pd.DataFrame(array, columns = ['a','b','c','d','e'])\n",
        "\n",
        "print(df)\n",
        "\n",
        "print(\"The column with the highest standard deviation is: \",df.std(axis=0)[df.std(axis=0) == max(df.std(axis=0))].index.values,\"with the value: \",df.std(axis=0)[df.std(axis=0) == max(df.std(axis=0))].values)\n",
        "\n",
        "print(\"The row with the lowest mean is: \",df.mean(axis=1)[df.mean(axis=1) == min(df.mean(axis=1))].index.values,\"with the value\",df.mean(axis=1)[df.mean(axis=1) == min(df.mean(axis=1))].values)"
      ],
      "metadata": {
        "colab": {
          "base_uri": "https://localhost:8080/"
        },
        "id": "0PiQ5TR5kaVG",
        "outputId": "8e0f38c2-eac1-4cb8-94f0-e33d74fcae4b"
      },
      "execution_count": 77,
      "outputs": [
        {
          "output_type": "stream",
          "name": "stdout",
          "text": [
            "           a         b         c         d         e\n",
            "0   1.591420  1.438704  1.388554  1.831858  1.440966\n",
            "1   1.955495  1.610411  1.433681  1.081114  1.198899\n",
            "2   1.139895  1.863959  1.424655  1.362418  1.222063\n",
            "3   1.610946  1.865108  1.631811  1.752056  1.164610\n",
            "4   1.569287  1.084512  1.966432  1.161901  1.691152\n",
            "5   1.338267  1.064024  1.019435  1.786970  1.913321\n",
            "6   1.091536  1.959899  1.288717  1.849815  1.399317\n",
            "7   1.207442  1.427904  1.393002  1.824996  1.681167\n",
            "8   1.729910  1.788787  1.605227  1.024149  1.339301\n",
            "9   1.225739  1.068462  1.332728  1.869094  1.376553\n",
            "10  1.133759  1.659763  1.282266  1.457480  1.086528\n",
            "11  1.076041  1.257178  1.799465  1.388341  1.037146\n",
            "12  1.793227  1.846441  1.756046  1.827009  1.443990\n",
            "13  1.987414  1.039417  1.094755  1.058428  1.287707\n",
            "14  1.697452  1.163985  1.086869  1.282955  1.520331\n",
            "15  1.246427  1.847538  1.873404  1.855037  1.187990\n",
            "16  1.984619  1.126320  1.593814  1.444150  1.125160\n",
            "17  1.467481  1.654908  1.970419  1.762698  1.358289\n",
            "18  1.343490  1.191786  1.843898  1.593803  1.597764\n",
            "19  1.193239  1.149588  1.547135  1.602759  1.431506\n",
            "The column with the highest standard deviation is:  ['b'] with the value:  [0.33425337]\n",
            "The row with the lowest mean is:  [13] with the value [1.29354428]\n"
          ]
        }
      ]
    },
    {
      "cell_type": "markdown",
      "source": [
        "**Q 11.**"
      ],
      "metadata": {
        "id": "zmxKJnAvttNa"
      }
    },
    {
      "cell_type": "code",
      "source": [
        "df['f'] = df['a']+df['b']+df['c']+df['d']+df['e']\n",
        "df['g'] = [\"LT8\" if x<8 else \"GT8\" for x in df['f']]\n",
        "print(\"Rows with sum less than 8 is:\",len(df[df['g'] == 'LT8']))\n",
        "print(\"Standard deviation of column f where value in column g is LT8\", df['f'][df['g']==\"LT8\"].std())\n",
        "print(\"Standard deviation of column f where value in column g is GT8\",df['f'][df['g']==\"GT8\"].std())"
      ],
      "metadata": {
        "colab": {
          "base_uri": "https://localhost:8080/"
        },
        "id": "MGeyOv5WpDME",
        "outputId": "cb33a789-54ee-4d55-b87a-9c94c537d40c"
      },
      "execution_count": 69,
      "outputs": [
        {
          "output_type": "stream",
          "name": "stdout",
          "text": [
            "Rows with sum less than 8 is: 17\n",
            "Standard deviation of column f where value in column g is LT8 0.4151996323437205\n",
            "Standard deviation of column f where value in column g is GT8 0.04939679020171973\n"
          ]
        }
      ]
    },
    {
      "cell_type": "markdown",
      "source": [
        "**Q 12.** Broadcasting refers to numpy's capability to perform arithemetic operations even if two arrays are of different shapes. The below code lists a few examples for the same."
      ],
      "metadata": {
        "id": "hsME49bAg6ka"
      }
    },
    {
      "cell_type": "code",
      "source": [
        "A =np.array([1,2])\n",
        "B = np.array([[2,3],[5,7]])\n",
        "print(\"Even though array A and B are of different dimensions yet they have been subtracted because A was broadcasted on B, the value is \",A-B)\n",
        "\n",
        "A =np.random.rand(3)\n",
        "B = np.random.rand(2,3)\n",
        "print(\"Even though array A and B are of different dimensions yet they have been added because A was broadcasted on B, the value is \",A+B)"
      ],
      "metadata": {
        "colab": {
          "base_uri": "https://localhost:8080/"
        },
        "id": "w58T5IHkg5v3",
        "outputId": "4f521000-6848-4322-ba99-df6daf807f8a"
      },
      "execution_count": 70,
      "outputs": [
        {
          "output_type": "stream",
          "name": "stdout",
          "text": [
            "Even though array A and B are of different dimensions yet they have been subtracted because A was broadcasted on B, the value is  [[-1 -1]\n",
            " [-4 -5]]\n",
            "Even though array A and B are of different dimensions yet they have been added because A was broadcasted on B, the value is  [[0.08420121 0.79546204 1.17929845]\n",
            " [0.91551887 1.13657808 1.16288906]]\n"
          ]
        }
      ]
    },
    {
      "cell_type": "markdown",
      "source": [
        "**Q 13. a) Function to compute position of the minimum element of an array.**\n",
        "\\\n",
        "Similar to the implementation of argmin in numpy, in case of multiple occurences, it returns index of the first occurence."
      ],
      "metadata": {
        "id": "t0Yk6S4XfCTv"
      }
    },
    {
      "cell_type": "code",
      "source": [
        "#Function to determine the position of the minimum element\n",
        "def arg_min(A):\n",
        "  min = A[0]\n",
        "  pos = 0\n",
        "  for i in range(len(A)):\n",
        "    if(A[i]<min):\n",
        "      min = A[i]\n",
        "      pos = i\n",
        "  return pos\n",
        "\n",
        "print(\"Some testcases for verification \\n\")\n",
        "for i in range(100):\n",
        "  A = np.random.rand(100)\n",
        "  print(\"Output of the custom function: \",arg_min(A))\n",
        "  print(\"Output using np.argmin: \",np.argmin(A))\n",
        "  if(arg_min(A) != np.argmin(A)):\n",
        "    print(\"Output does not match\")"
      ],
      "metadata": {
        "id": "L_nPAaE_MLDX",
        "colab": {
          "base_uri": "https://localhost:8080/"
        },
        "outputId": "262d14b9-9134-4722-bda4-f09ffce8f17d"
      },
      "execution_count": 71,
      "outputs": [
        {
          "output_type": "stream",
          "name": "stdout",
          "text": [
            "Some testcases for verification \n",
            "\n",
            "Output of the custom function:  66\n",
            "Output using np.argmin:  66\n",
            "Output of the custom function:  95\n",
            "Output using np.argmin:  95\n",
            "Output of the custom function:  40\n",
            "Output using np.argmin:  40\n",
            "Output of the custom function:  57\n",
            "Output using np.argmin:  57\n",
            "Output of the custom function:  5\n",
            "Output using np.argmin:  5\n",
            "Output of the custom function:  71\n",
            "Output using np.argmin:  71\n",
            "Output of the custom function:  23\n",
            "Output using np.argmin:  23\n",
            "Output of the custom function:  50\n",
            "Output using np.argmin:  50\n",
            "Output of the custom function:  8\n",
            "Output using np.argmin:  8\n",
            "Output of the custom function:  81\n",
            "Output using np.argmin:  81\n",
            "Output of the custom function:  6\n",
            "Output using np.argmin:  6\n",
            "Output of the custom function:  91\n",
            "Output using np.argmin:  91\n",
            "Output of the custom function:  32\n",
            "Output using np.argmin:  32\n",
            "Output of the custom function:  46\n",
            "Output using np.argmin:  46\n",
            "Output of the custom function:  41\n",
            "Output using np.argmin:  41\n",
            "Output of the custom function:  42\n",
            "Output using np.argmin:  42\n",
            "Output of the custom function:  41\n",
            "Output using np.argmin:  41\n",
            "Output of the custom function:  13\n",
            "Output using np.argmin:  13\n",
            "Output of the custom function:  3\n",
            "Output using np.argmin:  3\n",
            "Output of the custom function:  51\n",
            "Output using np.argmin:  51\n",
            "Output of the custom function:  19\n",
            "Output using np.argmin:  19\n",
            "Output of the custom function:  76\n",
            "Output using np.argmin:  76\n",
            "Output of the custom function:  88\n",
            "Output using np.argmin:  88\n",
            "Output of the custom function:  32\n",
            "Output using np.argmin:  32\n",
            "Output of the custom function:  24\n",
            "Output using np.argmin:  24\n",
            "Output of the custom function:  16\n",
            "Output using np.argmin:  16\n",
            "Output of the custom function:  71\n",
            "Output using np.argmin:  71\n",
            "Output of the custom function:  12\n",
            "Output using np.argmin:  12\n",
            "Output of the custom function:  33\n",
            "Output using np.argmin:  33\n",
            "Output of the custom function:  31\n",
            "Output using np.argmin:  31\n",
            "Output of the custom function:  97\n",
            "Output using np.argmin:  97\n",
            "Output of the custom function:  38\n",
            "Output using np.argmin:  38\n",
            "Output of the custom function:  92\n",
            "Output using np.argmin:  92\n",
            "Output of the custom function:  12\n",
            "Output using np.argmin:  12\n",
            "Output of the custom function:  38\n",
            "Output using np.argmin:  38\n",
            "Output of the custom function:  92\n",
            "Output using np.argmin:  92\n",
            "Output of the custom function:  94\n",
            "Output using np.argmin:  94\n",
            "Output of the custom function:  58\n",
            "Output using np.argmin:  58\n",
            "Output of the custom function:  8\n",
            "Output using np.argmin:  8\n",
            "Output of the custom function:  11\n",
            "Output using np.argmin:  11\n",
            "Output of the custom function:  80\n",
            "Output using np.argmin:  80\n",
            "Output of the custom function:  20\n",
            "Output using np.argmin:  20\n",
            "Output of the custom function:  0\n",
            "Output using np.argmin:  0\n",
            "Output of the custom function:  67\n",
            "Output using np.argmin:  67\n",
            "Output of the custom function:  97\n",
            "Output using np.argmin:  97\n",
            "Output of the custom function:  88\n",
            "Output using np.argmin:  88\n",
            "Output of the custom function:  61\n",
            "Output using np.argmin:  61\n",
            "Output of the custom function:  59\n",
            "Output using np.argmin:  59\n",
            "Output of the custom function:  64\n",
            "Output using np.argmin:  64\n",
            "Output of the custom function:  61\n",
            "Output using np.argmin:  61\n",
            "Output of the custom function:  64\n",
            "Output using np.argmin:  64\n",
            "Output of the custom function:  78\n",
            "Output using np.argmin:  78\n",
            "Output of the custom function:  24\n",
            "Output using np.argmin:  24\n",
            "Output of the custom function:  99\n",
            "Output using np.argmin:  99\n",
            "Output of the custom function:  9\n",
            "Output using np.argmin:  9\n",
            "Output of the custom function:  31\n",
            "Output using np.argmin:  31\n",
            "Output of the custom function:  38\n",
            "Output using np.argmin:  38\n",
            "Output of the custom function:  49\n",
            "Output using np.argmin:  49\n",
            "Output of the custom function:  27\n",
            "Output using np.argmin:  27\n",
            "Output of the custom function:  44\n",
            "Output using np.argmin:  44\n",
            "Output of the custom function:  75\n",
            "Output using np.argmin:  75\n",
            "Output of the custom function:  91\n",
            "Output using np.argmin:  91\n",
            "Output of the custom function:  80\n",
            "Output using np.argmin:  80\n",
            "Output of the custom function:  34\n",
            "Output using np.argmin:  34\n",
            "Output of the custom function:  59\n",
            "Output using np.argmin:  59\n",
            "Output of the custom function:  67\n",
            "Output using np.argmin:  67\n",
            "Output of the custom function:  99\n",
            "Output using np.argmin:  99\n",
            "Output of the custom function:  86\n",
            "Output using np.argmin:  86\n",
            "Output of the custom function:  77\n",
            "Output using np.argmin:  77\n",
            "Output of the custom function:  82\n",
            "Output using np.argmin:  82\n",
            "Output of the custom function:  43\n",
            "Output using np.argmin:  43\n",
            "Output of the custom function:  68\n",
            "Output using np.argmin:  68\n",
            "Output of the custom function:  60\n",
            "Output using np.argmin:  60\n",
            "Output of the custom function:  93\n",
            "Output using np.argmin:  93\n",
            "Output of the custom function:  53\n",
            "Output using np.argmin:  53\n",
            "Output of the custom function:  8\n",
            "Output using np.argmin:  8\n",
            "Output of the custom function:  61\n",
            "Output using np.argmin:  61\n",
            "Output of the custom function:  42\n",
            "Output using np.argmin:  42\n",
            "Output of the custom function:  12\n",
            "Output using np.argmin:  12\n",
            "Output of the custom function:  6\n",
            "Output using np.argmin:  6\n",
            "Output of the custom function:  10\n",
            "Output using np.argmin:  10\n",
            "Output of the custom function:  66\n",
            "Output using np.argmin:  66\n",
            "Output of the custom function:  60\n",
            "Output using np.argmin:  60\n",
            "Output of the custom function:  32\n",
            "Output using np.argmin:  32\n",
            "Output of the custom function:  72\n",
            "Output using np.argmin:  72\n",
            "Output of the custom function:  66\n",
            "Output using np.argmin:  66\n",
            "Output of the custom function:  75\n",
            "Output using np.argmin:  75\n",
            "Output of the custom function:  23\n",
            "Output using np.argmin:  23\n",
            "Output of the custom function:  79\n",
            "Output using np.argmin:  79\n",
            "Output of the custom function:  26\n",
            "Output using np.argmin:  26\n",
            "Output of the custom function:  71\n",
            "Output using np.argmin:  71\n",
            "Output of the custom function:  9\n",
            "Output using np.argmin:  9\n",
            "Output of the custom function:  82\n",
            "Output using np.argmin:  82\n",
            "Output of the custom function:  22\n",
            "Output using np.argmin:  22\n",
            "Output of the custom function:  43\n",
            "Output using np.argmin:  43\n",
            "Output of the custom function:  80\n",
            "Output using np.argmin:  80\n",
            "Output of the custom function:  57\n",
            "Output using np.argmin:  57\n",
            "Output of the custom function:  93\n",
            "Output using np.argmin:  93\n",
            "Output of the custom function:  72\n",
            "Output using np.argmin:  72\n",
            "Output of the custom function:  58\n",
            "Output using np.argmin:  58\n"
          ]
        }
      ]
    }
  ]
}